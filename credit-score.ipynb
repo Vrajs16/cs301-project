{
 "cells": [
  {
   "attachments": {},
   "cell_type": "markdown",
   "metadata": {},
   "source": [
    "# CS301 Project"
   ]
  },
  {
   "attachments": {},
   "cell_type": "markdown",
   "metadata": {},
   "source": [
    "Source: https://www.kaggle.com/datasets/parisrohan/credit-score-classification"
   ]
  },
  {
   "attachments": {},
   "cell_type": "markdown",
   "metadata": {},
   "source": [
    "## Preprocessing"
   ]
  },
  {
   "cell_type": "code",
   "execution_count": 28,
   "metadata": {},
   "outputs": [],
   "source": [
    "# import packages\n",
    "import pandas as pd\n",
    "import numpy as np\n",
    "from sklearn.preprocessing import LabelEncoder, RobustScaler, StandardScaler, Normalizer\n",
    "from sklearn.model_selection import train_test_split\n",
    "from sklearn.ensemble import RandomForestClassifier\n",
    "from sklearn.metrics import accuracy_score\n",
    "from sklearn.metrics import confusion_matrix"
   ]
  },
  {
   "cell_type": "code",
   "execution_count": 29,
   "metadata": {},
   "outputs": [
    {
     "name": "stdout",
     "output_type": "stream",
     "text": [
      "<class 'pandas.core.frame.DataFrame'>\n",
      "RangeIndex: 100000 entries, 0 to 99999\n",
      "Data columns (total 23 columns):\n",
      " #   Column                    Non-Null Count   Dtype  \n",
      "---  ------                    --------------   -----  \n",
      " 0   Age                       100000 non-null  object \n",
      " 1   Occupation                100000 non-null  object \n",
      " 2   Annual_Income             100000 non-null  object \n",
      " 3   Monthly_Inhand_Salary     84998 non-null   float64\n",
      " 4   Num_Bank_Accounts         100000 non-null  int64  \n",
      " 5   Num_Credit_Card           100000 non-null  int64  \n",
      " 6   Interest_Rate             100000 non-null  int64  \n",
      " 7   Num_of_Loan               100000 non-null  object \n",
      " 8   Type_of_Loan              88592 non-null   object \n",
      " 9   Delay_from_due_date       100000 non-null  int64  \n",
      " 10  Num_of_Delayed_Payment    92998 non-null   object \n",
      " 11  Changed_Credit_Limit      100000 non-null  object \n",
      " 12  Num_Credit_Inquiries      98035 non-null   float64\n",
      " 13  Credit_Mix                100000 non-null  object \n",
      " 14  Outstanding_Debt          100000 non-null  object \n",
      " 15  Credit_Utilization_Ratio  100000 non-null  float64\n",
      " 16  Credit_History_Age        90970 non-null   object \n",
      " 17  Payment_of_Min_Amount     100000 non-null  object \n",
      " 18  Total_EMI_per_month       100000 non-null  float64\n",
      " 19  Amount_invested_monthly   95521 non-null   object \n",
      " 20  Payment_Behaviour         100000 non-null  object \n",
      " 21  Monthly_Balance           98800 non-null   object \n",
      " 22  Credit_Score              100000 non-null  object \n",
      "dtypes: float64(4), int64(4), object(15)\n",
      "memory usage: 17.5+ MB\n"
     ]
    }
   ],
   "source": [
    "# read in data\n",
    "data = pd.read_csv('./data/train.csv', low_memory=False)\n",
    "\n",
    "data.drop(['ID', 'Customer_ID', 'Month', 'Name', 'SSN'], axis=1, inplace=True)\n",
    "\n",
    "pd.set_option('display.max_columns', None)\n",
    "data.info()"
   ]
  },
  {
   "cell_type": "code",
   "execution_count": 30,
   "metadata": {},
   "outputs": [
    {
     "name": "stdout",
     "output_type": "stream",
     "text": [
      "occupation_le\n",
      "type_of_loan_le\n",
      "credit_mix_le\n",
      "credit_history_age_le\n",
      "payment_of_min_amount_le\n",
      "payment_behaviour_le\n",
      "credit_score_le\n",
      "<class 'pandas.core.frame.DataFrame'>\n",
      "RangeIndex: 100000 entries, 0 to 99999\n",
      "Data columns (total 23 columns):\n",
      " #   Column                    Non-Null Count   Dtype  \n",
      "---  ------                    --------------   -----  \n",
      " 0   Age                       100000 non-null  float64\n",
      " 1   Occupation                100000 non-null  int64  \n",
      " 2   Annual_Income             100000 non-null  float64\n",
      " 3   Monthly_Inhand_Salary     100000 non-null  float64\n",
      " 4   Num_Bank_Accounts         100000 non-null  int64  \n",
      " 5   Num_Credit_Card           100000 non-null  int64  \n",
      " 6   Interest_Rate             100000 non-null  int64  \n",
      " 7   Num_of_Loan               100000 non-null  float64\n",
      " 8   Type_of_Loan              100000 non-null  int64  \n",
      " 9   Delay_from_due_date       100000 non-null  int64  \n",
      " 10  Num_of_Delayed_Payment    100000 non-null  float64\n",
      " 11  Changed_Credit_Limit      100000 non-null  float64\n",
      " 12  Num_Credit_Inquiries      100000 non-null  float64\n",
      " 13  Credit_Mix                100000 non-null  int64  \n",
      " 14  Outstanding_Debt          100000 non-null  float64\n",
      " 15  Credit_Utilization_Ratio  100000 non-null  float64\n",
      " 16  Credit_History_Age        100000 non-null  int64  \n",
      " 17  Payment_of_Min_Amount     100000 non-null  int64  \n",
      " 18  Total_EMI_per_month       100000 non-null  float64\n",
      " 19  Amount_invested_monthly   100000 non-null  float64\n",
      " 20  Payment_Behaviour         100000 non-null  int64  \n",
      " 21  Monthly_Balance           100000 non-null  float64\n",
      " 22  Credit_Score              100000 non-null  int64  \n",
      "dtypes: float64(12), int64(11)\n",
      "memory usage: 17.5 MB\n"
     ]
    }
   ],
   "source": [
    "data[\"Age\"] = pd.to_numeric(data[\"Age\"], errors=\"coerce\")\n",
    "data[\"Annual_Income\"] = pd.to_numeric(data[\"Annual_Income\"], errors=\"coerce\")\n",
    "data[\"Monthly_Inhand_Salary\"] = pd.to_numeric(\n",
    "    data[\"Monthly_Inhand_Salary\"], errors=\"coerce\"\n",
    ")\n",
    "data[\"Num_Bank_Accounts\"] = pd.to_numeric(data[\"Num_Bank_Accounts\"], errors=\"coerce\")\n",
    "data[\"Num_Credit_Card\"] = pd.to_numeric(data[\"Num_Credit_Card\"], errors=\"coerce\")\n",
    "data[\"Interest_Rate\"] = pd.to_numeric(data[\"Interest_Rate\"], errors=\"coerce\")\n",
    "data[\"Num_of_Loan\"] = pd.to_numeric(data[\"Num_of_Loan\"], errors=\"coerce\")\n",
    "data[\"Delay_from_due_date\"] = pd.to_numeric(\n",
    "    data[\"Delay_from_due_date\"], errors=\"coerce\"\n",
    ")\n",
    "data[\"Num_of_Delayed_Payment\"] = pd.to_numeric(\n",
    "    data[\"Num_of_Delayed_Payment\"], errors=\"coerce\"\n",
    ")\n",
    "data[\"Changed_Credit_Limit\"] = pd.to_numeric(\n",
    "    data[\"Changed_Credit_Limit\"], errors=\"coerce\"\n",
    ")\n",
    "data[\"Num_Credit_Inquiries\"] = pd.to_numeric(\n",
    "    data[\"Num_Credit_Inquiries\"], errors=\"coerce\"\n",
    ")\n",
    "data[\"Outstanding_Debt\"] = pd.to_numeric(data[\"Outstanding_Debt\"], errors=\"coerce\")\n",
    "data[\"Credit_Utilization_Ratio\"] = pd.to_numeric(\n",
    "    data[\"Credit_Utilization_Ratio\"], errors=\"coerce\"\n",
    ")\n",
    "data[\"Total_EMI_per_month\"] = pd.to_numeric(\n",
    "    data[\"Total_EMI_per_month\"], errors=\"coerce\"\n",
    ")\n",
    "\n",
    "data[\"Amount_invested_monthly\"] = pd.to_numeric(\n",
    "    data[\"Amount_invested_monthly\"], errors=\"coerce\"\n",
    ")\n",
    "data[\"Monthly_Balance\"] = pd.to_numeric(\n",
    "    data[\"Monthly_Balance\"], errors=\"coerce\"\n",
    ")\n",
    "\n",
    "\n",
    "\n",
    "data.Age.fillna(data.Age.mean(), inplace=True)\n",
    "data.Annual_Income.fillna(data.Annual_Income.mean(), inplace=True)\n",
    "data.Monthly_Inhand_Salary.fillna(data.Monthly_Inhand_Salary.mean(), inplace=True)\n",
    "data.Num_of_Loan.fillna(data.Num_of_Loan.mean(), inplace=True)\n",
    "data.Type_of_Loan.fillna(method='ffill', inplace=True)\n",
    "data.Num_of_Delayed_Payment.fillna(method='ffill', inplace=True)\n",
    "data.Changed_Credit_Limit.fillna(method='ffill', inplace=True)\n",
    "data.Num_Credit_Inquiries.fillna(data.Num_Credit_Inquiries.mean(), inplace=True)\n",
    "data.Outstanding_Debt.fillna(data.Outstanding_Debt.mean(), inplace=True)\n",
    "data.Credit_History_Age.fillna(method=\"ffill\", inplace=True)\n",
    "data.Amount_invested_monthly.fillna(method=\"ffill\", inplace=True)\n",
    "data.Monthly_Balance.fillna(data.Monthly_Balance.mean(), inplace=True)\n",
    "\n",
    "print(\"occupation_le\")\n",
    "occupation_le = LabelEncoder()\n",
    "data.Occupation = occupation_le.fit_transform(data.Occupation)\n",
    "print(\"type_of_loan_le\")\n",
    "type_of_loan_le = LabelEncoder()\n",
    "data.Type_of_Loan = type_of_loan_le.fit_transform(data.Type_of_Loan)\n",
    "print(\"credit_mix_le\")\n",
    "credit_mix_le = LabelEncoder()\n",
    "data.Credit_Mix = credit_mix_le.fit_transform(data.Credit_Mix)\n",
    "print(\"credit_history_age_le\")\n",
    "credit_history_age_le = LabelEncoder()\n",
    "data.Credit_History_Age = credit_history_age_le.fit_transform(data.Credit_History_Age)\n",
    "print(\"payment_of_min_amount_le\")\n",
    "payment_of_min_amount_le = LabelEncoder()\n",
    "data.Payment_of_Min_Amount = payment_of_min_amount_le.fit_transform(data.Payment_of_Min_Amount)\n",
    "print(\"payment_behaviour_le\")\n",
    "payment_behaviour_le = LabelEncoder()\n",
    "data.Payment_Behaviour = payment_behaviour_le.fit_transform(data.Payment_Behaviour)\n",
    "print(\"credit_score_le\")\n",
    "credit_score_le = LabelEncoder()\n",
    "data.Credit_Score = credit_score_le.fit_transform(data.Credit_Score)\n",
    "\n",
    "data.info()\n"
   ]
  },
  {
   "cell_type": "code",
   "execution_count": null,
   "metadata": {},
   "outputs": [],
   "source": [
    "data.head(n=20)"
   ]
  },
  {
   "attachments": {},
   "cell_type": "markdown",
   "metadata": {},
   "source": [
    "## Modeling"
   ]
  },
  {
   "cell_type": "code",
   "execution_count": 31,
   "metadata": {},
   "outputs": [],
   "source": [
    "# data = data.drop(\n",
    "#     [\n",
    "# \"Occupation\",\n",
    "# \"Type_of_Loan\",\n",
    "# \"Delay_from_due_date\",\n",
    "# \"Num_of_Delayed_Payment\",\n",
    "# \"Changed_Credit_Limit\",\n",
    "# \"Payment_of_Min_Amount\",\n",
    "# \"Payment_Behaviour\",\n",
    "#     ],\n",
    "#     axis=1,\n",
    "# )\n",
    "\n",
    "\n",
    "x_train, x_test, y_train, y_test = train_test_split(\n",
    "    data.drop(\"Credit_Score\", axis=1), data.Credit_Score, test_size=0.15, random_state=42\n",
    ")\n",
    "scaler = StandardScaler()\n",
    "x_train = scaler.fit_transform(x_train)\n",
    "x_test = scaler.transform(x_test)\n"
   ]
  },
  {
   "cell_type": "code",
   "execution_count": 32,
   "metadata": {},
   "outputs": [
    {
     "name": "stderr",
     "output_type": "stream",
     "text": [
      "[Parallel(n_jobs=-1)]: Using backend ThreadingBackend with 8 concurrent workers.\n",
      "[Parallel(n_jobs=-1)]: Done  34 tasks      | elapsed:    1.4s\n",
      "[Parallel(n_jobs=-1)]: Done 184 tasks      | elapsed:    7.0s\n",
      "[Parallel(n_jobs=-1)]: Done 434 tasks      | elapsed:   15.7s\n",
      "[Parallel(n_jobs=-1)]: Done 784 tasks      | elapsed:   27.7s\n",
      "[Parallel(n_jobs=-1)]: Done 1234 tasks      | elapsed:   43.9s\n",
      "[Parallel(n_jobs=-1)]: Done 1784 tasks      | elapsed:  1.1min\n",
      "[Parallel(n_jobs=-1)]: Done 2434 tasks      | elapsed:  1.5min\n",
      "[Parallel(n_jobs=-1)]: Done 3184 tasks      | elapsed:  2.0min\n",
      "[Parallel(n_jobs=-1)]: Done 4034 tasks      | elapsed:  2.5min\n",
      "[Parallel(n_jobs=-1)]: Done 4984 tasks      | elapsed:  3.2min\n",
      "[Parallel(n_jobs=-1)]: Done 5000 out of 5000 | elapsed:  3.2min finished\n",
      "[Parallel(n_jobs=8)]: Using backend ThreadingBackend with 8 concurrent workers.\n",
      "[Parallel(n_jobs=8)]: Done  34 tasks      | elapsed:    0.0s\n",
      "[Parallel(n_jobs=8)]: Done 184 tasks      | elapsed:    0.1s\n",
      "[Parallel(n_jobs=8)]: Done 434 tasks      | elapsed:    0.3s\n",
      "[Parallel(n_jobs=8)]: Done 784 tasks      | elapsed:    0.6s\n",
      "[Parallel(n_jobs=8)]: Done 1234 tasks      | elapsed:    1.0s\n",
      "[Parallel(n_jobs=8)]: Done 1784 tasks      | elapsed:    1.5s\n",
      "[Parallel(n_jobs=8)]: Done 2434 tasks      | elapsed:    2.0s\n",
      "[Parallel(n_jobs=8)]: Done 3184 tasks      | elapsed:    2.7s\n",
      "[Parallel(n_jobs=8)]: Done 4034 tasks      | elapsed:    3.5s\n"
     ]
    },
    {
     "name": "stdout",
     "output_type": "stream",
     "text": [
      "Accuracy:  0.7926\n"
     ]
    },
    {
     "name": "stderr",
     "output_type": "stream",
     "text": [
      "[Parallel(n_jobs=8)]: Done 4984 tasks      | elapsed:    4.4s\n",
      "[Parallel(n_jobs=8)]: Done 5000 out of 5000 | elapsed:    4.4s finished\n"
     ]
    }
   ],
   "source": [
    "rf = RandomForestClassifier(n_estimators=5000, max_depth=200, random_state=2023, n_jobs=-1, verbose=1)\n",
    "rf.fit(x_train, y_train)\n",
    "y_pred = rf.predict(x_test)\n",
    "print(\"Accuracy: \", accuracy_score(y_test, y_pred))\n"
   ]
  },
  {
   "cell_type": "code",
   "execution_count": 33,
   "metadata": {},
   "outputs": [
    {
     "name": "stdout",
     "output_type": "stream",
     "text": [
      "Accuracy:  0.6275333333333334\n",
      "Confusion Matrix:  [[1514  209  904]\n",
      " [ 386 2853 1182]\n",
      " [1262 1644 5046]]\n"
     ]
    }
   ],
   "source": [
    "# Use knn to predict the credit score\n",
    "from sklearn.neighbors import KNeighborsClassifier\n",
    "knn = KNeighborsClassifier(n_neighbors=4, n_jobs=-1)\n",
    "knn.fit(x_train, y_train)\n",
    "y_pred = knn.predict(x_test)\n",
    "print(\"Accuracy: \", accuracy_score(y_test, y_pred))\n",
    "print(\"Confusion Matrix: \", confusion_matrix(y_test, y_pred))\n"
   ]
  }
 ],
 "metadata": {
  "kernelspec": {
   "display_name": "Python 3",
   "language": "python",
   "name": "python3"
  },
  "language_info": {
   "codemirror_mode": {
    "name": "ipython",
    "version": 3
   },
   "file_extension": ".py",
   "mimetype": "text/x-python",
   "name": "python",
   "nbconvert_exporter": "python",
   "pygments_lexer": "ipython3",
   "version": "3.10.10"
  },
  "orig_nbformat": 4
 },
 "nbformat": 4,
 "nbformat_minor": 2
}
